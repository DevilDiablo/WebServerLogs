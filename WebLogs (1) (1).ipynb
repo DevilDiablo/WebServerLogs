{
  "nbformat": 4,
  "nbformat_minor": 0,
  "metadata": {
    "colab": {
      "name": "WebLogs.ipynb",
      "provenance": [],
      "collapsed_sections": []
    },
    "kernelspec": {
      "name": "python3",
      "display_name": "Python 3"
    },
    "language_info": {
      "name": "python"
    },
    "accelerator": "GPU",
    "gpuClass": "standard"
  },
  "cells": [
    {
      "cell_type": "code",
      "execution_count": 2,
      "metadata": {
        "colab": {
          "base_uri": "https://localhost:8080/"
        },
        "id": "uy_Tg-o9RcGg",
        "outputId": "10e69ec8-2af2-4490-e2ed-bbf2ac530105"
      },
      "outputs": [
        {
          "output_type": "stream",
          "name": "stdout",
          "text": [
            "Looking in indexes: https://pypi.org/simple, https://us-python.pkg.dev/colab-wheels/public/simple/\n",
            "Collecting pyspark\n",
            "  Downloading pyspark-3.3.0.tar.gz (281.3 MB)\n",
            "\u001b[K     |████████████████████████████████| 281.3 MB 46 kB/s \n",
            "\u001b[?25hCollecting py4j==0.10.9.5\n",
            "  Downloading py4j-0.10.9.5-py2.py3-none-any.whl (199 kB)\n",
            "\u001b[K     |████████████████████████████████| 199 kB 50.2 MB/s \n",
            "\u001b[?25hBuilding wheels for collected packages: pyspark\n",
            "  Building wheel for pyspark (setup.py) ... \u001b[?25l\u001b[?25hdone\n",
            "  Created wheel for pyspark: filename=pyspark-3.3.0-py2.py3-none-any.whl size=281764026 sha256=27968ae76d075bbc57f3971e78fd122d775db7efadf6e2420b0b4473288ea2ec\n",
            "  Stored in directory: /root/.cache/pip/wheels/7a/8e/1b/f73a52650d2e5f337708d9f6a1750d451a7349a867f928b885\n",
            "Successfully built pyspark\n",
            "Installing collected packages: py4j, pyspark\n",
            "Successfully installed py4j-0.10.9.5 pyspark-3.3.0\n"
          ]
        }
      ],
      "source": [
        "!pip install pyspark"
      ]
    },
    {
      "cell_type": "code",
      "source": [
        "from pyspark.sql import SparkSession\n",
        "sc = SparkSession.builder\\\n",
        "        .master(\"local\")\\\n",
        "        .appName(\"Colab\")\\\n",
        "        .config('spark.ui.port', '4050')\\\n",
        "        .getOrCreate()"
      ],
      "metadata": {
        "id": "RvwfFiqaWpQa"
      },
      "execution_count": 3,
      "outputs": []
    },
    {
      "cell_type": "code",
      "source": [
        "sc"
      ],
      "metadata": {
        "colab": {
          "base_uri": "https://localhost:8080/",
          "height": 219
        },
        "id": "bjPWPjEqW50w",
        "outputId": "937f193c-9631-4c21-f337-264508b10cd7"
      },
      "execution_count": 4,
      "outputs": [
        {
          "output_type": "execute_result",
          "data": {
            "text/plain": [
              "<pyspark.sql.session.SparkSession at 0x7f263e7e4090>"
            ],
            "text/html": [
              "\n",
              "            <div>\n",
              "                <p><b>SparkSession - in-memory</b></p>\n",
              "                \n",
              "        <div>\n",
              "            <p><b>SparkContext</b></p>\n",
              "\n",
              "            <p><a href=\"http://a1f9d442120b:4050\">Spark UI</a></p>\n",
              "\n",
              "            <dl>\n",
              "              <dt>Version</dt>\n",
              "                <dd><code>v3.3.0</code></dd>\n",
              "              <dt>Master</dt>\n",
              "                <dd><code>local</code></dd>\n",
              "              <dt>AppName</dt>\n",
              "                <dd><code>Colab</code></dd>\n",
              "            </dl>\n",
              "        </div>\n",
              "        \n",
              "            </div>\n",
              "        "
            ]
          },
          "metadata": {},
          "execution_count": 4
        }
      ]
    },
    {
      "cell_type": "code",
      "source": [
        ""
      ],
      "metadata": {
        "id": "DrVi28DFW9k6"
      },
      "execution_count": 4,
      "outputs": []
    },
    {
      "cell_type": "code",
      "source": [
        "from google.colab import drive\n",
        "drive.mount('/content/drive')"
      ],
      "metadata": {
        "colab": {
          "base_uri": "https://localhost:8080/"
        },
        "id": "cfGs7s_LXEiI",
        "outputId": "f83354d7-6277-4c0b-d302-467877803132"
      },
      "execution_count": 5,
      "outputs": [
        {
          "output_type": "stream",
          "name": "stdout",
          "text": [
            "Mounted at /content/drive\n"
          ]
        }
      ]
    },
    {
      "cell_type": "code",
      "source": [
        "DataPath= \"/content/drive/MyDrive/access.log\""
      ],
      "metadata": {
        "id": "swOCcPXjcYrY"
      },
      "execution_count": 6,
      "outputs": []
    },
    {
      "cell_type": "code",
      "source": [
        "# weblogs = sc.read.csv(DataPath)\n",
        "# weblogs= sc.read.options(Map(\"delimiter\"->\",\")).csv(DataPath)\n",
        "# weblogs = sc.read.csv(DataPath, sep=' ',inferSchema=True, header=False)"
      ],
      "metadata": {
        "id": "S_jjBQl4cYuX"
      },
      "execution_count": 7,
      "outputs": []
    },
    {
      "cell_type": "code",
      "source": [
        "# weblogstext = sc.read.text(DataPath)"
      ],
      "metadata": {
        "id": "7dF1BlePek-f"
      },
      "execution_count": 8,
      "outputs": []
    },
    {
      "cell_type": "code",
      "source": [
        "# import pandas as pd\n",
        "\n",
        "# df = pd.read_csv('/content/drive/MyDrive/access.log', sep=\" \")\n",
        "# df"
      ],
      "metadata": {
        "id": "_yk5_-lbbQxo"
      },
      "execution_count": 9,
      "outputs": []
    },
    {
      "cell_type": "code",
      "source": [
        "# weblogstext.take(1)"
      ],
      "metadata": {
        "id": "X-zU9Fe7daBf"
      },
      "execution_count": 10,
      "outputs": []
    },
    {
      "cell_type": "code",
      "source": [
        ""
      ],
      "metadata": {
        "id": "aWr5IBX9dxk_"
      },
      "execution_count": 10,
      "outputs": []
    },
    {
      "cell_type": "code",
      "source": [
        "\n"
      ],
      "metadata": {
        "id": "H_evRWPRbcTw"
      },
      "execution_count": 10,
      "outputs": []
    },
    {
      "cell_type": "code",
      "source": [
        "rdd1 = sc.sparkContext.textFile(DataPath)"
      ],
      "metadata": {
        "id": "YXwfFj5yjKIz"
      },
      "execution_count": 11,
      "outputs": []
    },
    {
      "cell_type": "code",
      "source": [
        "rdd1.take(3)"
      ],
      "metadata": {
        "colab": {
          "base_uri": "https://localhost:8080/"
        },
        "id": "D6ms-hPmei0N",
        "outputId": "11245d7d-ae7f-49ce-b222-6f3b6e40017e"
      },
      "execution_count": 41,
      "outputs": [
        {
          "output_type": "execute_result",
          "data": {
            "text/plain": [
              "['54.36.149.41 - - [22/Jan/2019:03:56:14 +0330] \"GET /filter/27|13%20%D9%85%DA%AF%D8%A7%D9%BE%DB%8C%DA%A9%D8%B3%D9%84,27|%DA%A9%D9%85%D8%AA%D8%B1%20%D8%A7%D8%B2%205%20%D9%85%DA%AF%D8%A7%D9%BE%DB%8C%DA%A9%D8%B3%D9%84,p53 HTTP/1.1\" 200 30577 \"-\" \"Mozilla/5.0 (compatible; AhrefsBot/6.1; +http://ahrefs.com/robot/)\" \"-\"',\n",
              " '31.56.96.51 - - [22/Jan/2019:03:56:16 +0330] \"GET /image/60844/productModel/200x200 HTTP/1.1\" 200 5667 \"https://www.zanbil.ir/m/filter/b113\" \"Mozilla/5.0 (Linux; Android 6.0; ALE-L21 Build/HuaweiALE-L21) AppleWebKit/537.36 (KHTML, like Gecko) Chrome/66.0.3359.158 Mobile Safari/537.36\" \"-\"',\n",
              " '31.56.96.51 - - [22/Jan/2019:03:56:16 +0330] \"GET /image/61474/productModel/200x200 HTTP/1.1\" 200 5379 \"https://www.zanbil.ir/m/filter/b113\" \"Mozilla/5.0 (Linux; Android 6.0; ALE-L21 Build/HuaweiALE-L21) AppleWebKit/537.36 (KHTML, like Gecko) Chrome/66.0.3359.158 Mobile Safari/537.36\" \"-\"']"
            ]
          },
          "metadata": {},
          "execution_count": 41
        }
      ]
    },
    {
      "cell_type": "code",
      "source": [
        "blanks = rdd1.map(lambda x:','.join(x or '0' for x in x.split(' ')))\n",
        "blanks.take(1)"
      ],
      "metadata": {
        "colab": {
          "base_uri": "https://localhost:8080/"
        },
        "id": "raLMkGmfelBf",
        "outputId": "cfa6b438-c2a4-478e-8bc7-032f4ab7af6d"
      },
      "execution_count": 13,
      "outputs": [
        {
          "output_type": "execute_result",
          "data": {
            "text/plain": [
              "['54.36.149.41,-,-,[22/Jan/2019:03:56:14,+0330],\"GET,/filter/27|13%20%D9%85%DA%AF%D8%A7%D9%BE%DB%8C%DA%A9%D8%B3%D9%84,27|%DA%A9%D9%85%D8%AA%D8%B1%20%D8%A7%D8%B2%205%20%D9%85%DA%AF%D8%A7%D9%BE%DB%8C%DA%A9%D8%B3%D9%84,p53,HTTP/1.1\",200,30577,\"-\",\"Mozilla/5.0,(compatible;,AhrefsBot/6.1;,+http://ahrefs.com/robot/)\",\"-\"']"
            ]
          },
          "metadata": {},
          "execution_count": 13
        }
      ]
    },
    {
      "cell_type": "code",
      "source": [
        "# Split the row into list\n",
        "import csv\n",
        "from io import StringIO\n",
        "def split(line):\n",
        "    reader = csv.reader(StringIO(line))\n",
        "    return next(reader)\n",
        "\n",
        "weblogsrdd=blanks.map(split)\n",
        "weblogsrdd.take(10)"
      ],
      "metadata": {
        "colab": {
          "base_uri": "https://localhost:8080/"
        },
        "id": "pn1HdfECgAHe",
        "outputId": "26b59836-e173-4840-a758-c470b4ba8691"
      },
      "execution_count": 14,
      "outputs": [
        {
          "output_type": "execute_result",
          "data": {
            "text/plain": [
              "[['54.36.149.41',\n",
              "  '-',\n",
              "  '-',\n",
              "  '[22/Jan/2019:03:56:14',\n",
              "  '+0330]',\n",
              "  'GET,/filter/27|13%20%D9%85%DA%AF%D8%A7%D9%BE%DB%8C%DA%A9%D8%B3%D9%84,27|%DA%A9%D9%85%D8%AA%D8%B1%20%D8%A7%D8%B2%205%20%D9%85%DA%AF%D8%A7%D9%BE%DB%8C%DA%A9%D8%B3%D9%84,p53,HTTP/1.1',\n",
              "  '200',\n",
              "  '30577',\n",
              "  '-',\n",
              "  'Mozilla/5.0,(compatible;,AhrefsBot/6.1;,+http://ahrefs.com/robot/)',\n",
              "  '-'],\n",
              " ['31.56.96.51',\n",
              "  '-',\n",
              "  '-',\n",
              "  '[22/Jan/2019:03:56:16',\n",
              "  '+0330]',\n",
              "  'GET,/image/60844/productModel/200x200,HTTP/1.1',\n",
              "  '200',\n",
              "  '5667',\n",
              "  'https://www.zanbil.ir/m/filter/b113',\n",
              "  'Mozilla/5.0,(Linux;,Android,6.0;,ALE-L21,Build/HuaweiALE-L21),AppleWebKit/537.36,(KHTML,,like,Gecko),Chrome/66.0.3359.158,Mobile,Safari/537.36',\n",
              "  '-'],\n",
              " ['31.56.96.51',\n",
              "  '-',\n",
              "  '-',\n",
              "  '[22/Jan/2019:03:56:16',\n",
              "  '+0330]',\n",
              "  'GET,/image/61474/productModel/200x200,HTTP/1.1',\n",
              "  '200',\n",
              "  '5379',\n",
              "  'https://www.zanbil.ir/m/filter/b113',\n",
              "  'Mozilla/5.0,(Linux;,Android,6.0;,ALE-L21,Build/HuaweiALE-L21),AppleWebKit/537.36,(KHTML,,like,Gecko),Chrome/66.0.3359.158,Mobile,Safari/537.36',\n",
              "  '-'],\n",
              " ['40.77.167.129',\n",
              "  '-',\n",
              "  '-',\n",
              "  '[22/Jan/2019:03:56:17',\n",
              "  '+0330]',\n",
              "  'GET,/image/14925/productModel/100x100,HTTP/1.1',\n",
              "  '200',\n",
              "  '1696',\n",
              "  '-',\n",
              "  'Mozilla/5.0,(compatible;,bingbot/2.0;,+http://www.bing.com/bingbot.htm)',\n",
              "  '-'],\n",
              " ['91.99.72.15',\n",
              "  '-',\n",
              "  '-',\n",
              "  '[22/Jan/2019:03:56:17',\n",
              "  '+0330]',\n",
              "  'GET,/product/31893/62100/%D8%B3%D8%B4%D9%88%D8%A7%D8%B1-%D8%AE%D8%A7%D9%86%DA%AF%DB%8C-%D9%BE%D8%B1%D9%86%D8%B3%D9%84%DB%8C-%D9%85%D8%AF%D9%84-PR257AT,HTTP/1.1',\n",
              "  '200',\n",
              "  '41483',\n",
              "  '-',\n",
              "  'Mozilla/5.0,(Windows,NT,6.2;,Win64;,x64;,rv:16.0)Gecko/16.0,Firefox/16.0',\n",
              "  '-'],\n",
              " ['40.77.167.129',\n",
              "  '-',\n",
              "  '-',\n",
              "  '[22/Jan/2019:03:56:17',\n",
              "  '+0330]',\n",
              "  'GET,/image/23488/productModel/150x150,HTTP/1.1',\n",
              "  '200',\n",
              "  '2654',\n",
              "  '-',\n",
              "  'Mozilla/5.0,(compatible;,bingbot/2.0;,+http://www.bing.com/bingbot.htm)',\n",
              "  '-'],\n",
              " ['40.77.167.129',\n",
              "  '-',\n",
              "  '-',\n",
              "  '[22/Jan/2019:03:56:18',\n",
              "  '+0330]',\n",
              "  'GET,/image/45437/productModel/150x150,HTTP/1.1',\n",
              "  '200',\n",
              "  '3688',\n",
              "  '-',\n",
              "  'Mozilla/5.0,(compatible;,bingbot/2.0;,+http://www.bing.com/bingbot.htm)',\n",
              "  '-'],\n",
              " ['40.77.167.129',\n",
              "  '-',\n",
              "  '-',\n",
              "  '[22/Jan/2019:03:56:18',\n",
              "  '+0330]',\n",
              "  'GET,/image/576/article/100x100,HTTP/1.1',\n",
              "  '200',\n",
              "  '14776',\n",
              "  '-',\n",
              "  'Mozilla/5.0,(compatible;,bingbot/2.0;,+http://www.bing.com/bingbot.htm)',\n",
              "  '-'],\n",
              " ['66.249.66.194',\n",
              "  '-',\n",
              "  '-',\n",
              "  '[22/Jan/2019:03:56:18',\n",
              "  '+0330]',\n",
              "  'GET,/filter/b41,b665,c150%7C%D8%A8%D8%AE%D8%A7%D8%B1%D9%BE%D8%B2,p56,HTTP/1.1',\n",
              "  '200',\n",
              "  '34277',\n",
              "  '-',\n",
              "  'Mozilla/5.0,(compatible;,Googlebot/2.1;,+http://www.google.com/bot.html)',\n",
              "  '-'],\n",
              " ['40.77.167.129',\n",
              "  '-',\n",
              "  '-',\n",
              "  '[22/Jan/2019:03:56:18',\n",
              "  '+0330]',\n",
              "  'GET,/image/57710/productModel/100x100,HTTP/1.1',\n",
              "  '200',\n",
              "  '1695',\n",
              "  '-',\n",
              "  'Mozilla/5.0,(compatible;,bingbot/2.0;,+http://www.bing.com/bingbot.htm)',\n",
              "  '-']]"
            ]
          },
          "metadata": {},
          "execution_count": 14
        }
      ]
    },
    {
      "cell_type": "code",
      "source": [
        "from pyspark.sql import Row"
      ],
      "metadata": {
        "id": "qB3Q4yYrgU6f"
      },
      "execution_count": 15,
      "outputs": []
    },
    {
      "cell_type": "code",
      "source": [
        "weblogsrdd.take(1)"
      ],
      "metadata": {
        "colab": {
          "base_uri": "https://localhost:8080/"
        },
        "id": "VLPJwaNljxbG",
        "outputId": "a814bc99-cc0b-404f-aef4-5c89b84cab7f"
      },
      "execution_count": 16,
      "outputs": [
        {
          "output_type": "execute_result",
          "data": {
            "text/plain": [
              "[['54.36.149.41',\n",
              "  '-',\n",
              "  '-',\n",
              "  '[22/Jan/2019:03:56:14',\n",
              "  '+0330]',\n",
              "  'GET,/filter/27|13%20%D9%85%DA%AF%D8%A7%D9%BE%DB%8C%DA%A9%D8%B3%D9%84,27|%DA%A9%D9%85%D8%AA%D8%B1%20%D8%A7%D8%B2%205%20%D9%85%DA%AF%D8%A7%D9%BE%DB%8C%DA%A9%D8%B3%D9%84,p53,HTTP/1.1',\n",
              "  '200',\n",
              "  '30577',\n",
              "  '-',\n",
              "  'Mozilla/5.0,(compatible;,AhrefsBot/6.1;,+http://ahrefs.com/robot/)',\n",
              "  '-']]"
            ]
          },
          "metadata": {},
          "execution_count": 16
        }
      ]
    },
    {
      "cell_type": "code",
      "source": [
        "import numpy as np "
      ],
      "metadata": {
        "id": "mE1r7jCtq7Gm"
      },
      "execution_count": 17,
      "outputs": []
    },
    {
      "cell_type": "code",
      "source": [
        "dataframe = weblogsrdd.map(lambda x:Row(client=x[0],datetime=(x[3] +','+ x[4]),method=x[5].split(','),rescode=x[6],size=x[7],user_agent=x[9]))"
      ],
      "metadata": {
        "id": "kV8LjPU2iom8"
      },
      "execution_count": 18,
      "outputs": []
    },
    {
      "cell_type": "markdown",
      "source": [
        ""
      ],
      "metadata": {
        "id": "JciyxEYYmTNv"
      }
    },
    {
      "cell_type": "code",
      "source": [
        "dataframe.take(5)"
      ],
      "metadata": {
        "colab": {
          "base_uri": "https://localhost:8080/"
        },
        "id": "-AqJ4Ptci-o_",
        "outputId": "b2ab411a-a0ff-4d9b-ecdc-095dae26a8e6"
      },
      "execution_count": 19,
      "outputs": [
        {
          "output_type": "execute_result",
          "data": {
            "text/plain": [
              "[Row(client='54.36.149.41', datetime='[22/Jan/2019:03:56:14,+0330]', method=['GET', '/filter/27|13%20%D9%85%DA%AF%D8%A7%D9%BE%DB%8C%DA%A9%D8%B3%D9%84', '27|%DA%A9%D9%85%D8%AA%D8%B1%20%D8%A7%D8%B2%205%20%D9%85%DA%AF%D8%A7%D9%BE%DB%8C%DA%A9%D8%B3%D9%84', 'p53', 'HTTP/1.1'], rescode='200', size='30577', user_agent='Mozilla/5.0,(compatible;,AhrefsBot/6.1;,+http://ahrefs.com/robot/)'),\n",
              " Row(client='31.56.96.51', datetime='[22/Jan/2019:03:56:16,+0330]', method=['GET', '/image/60844/productModel/200x200', 'HTTP/1.1'], rescode='200', size='5667', user_agent='Mozilla/5.0,(Linux;,Android,6.0;,ALE-L21,Build/HuaweiALE-L21),AppleWebKit/537.36,(KHTML,,like,Gecko),Chrome/66.0.3359.158,Mobile,Safari/537.36'),\n",
              " Row(client='31.56.96.51', datetime='[22/Jan/2019:03:56:16,+0330]', method=['GET', '/image/61474/productModel/200x200', 'HTTP/1.1'], rescode='200', size='5379', user_agent='Mozilla/5.0,(Linux;,Android,6.0;,ALE-L21,Build/HuaweiALE-L21),AppleWebKit/537.36,(KHTML,,like,Gecko),Chrome/66.0.3359.158,Mobile,Safari/537.36'),\n",
              " Row(client='40.77.167.129', datetime='[22/Jan/2019:03:56:17,+0330]', method=['GET', '/image/14925/productModel/100x100', 'HTTP/1.1'], rescode='200', size='1696', user_agent='Mozilla/5.0,(compatible;,bingbot/2.0;,+http://www.bing.com/bingbot.htm)'),\n",
              " Row(client='91.99.72.15', datetime='[22/Jan/2019:03:56:17,+0330]', method=['GET', '/product/31893/62100/%D8%B3%D8%B4%D9%88%D8%A7%D8%B1-%D8%AE%D8%A7%D9%86%DA%AF%DB%8C-%D9%BE%D8%B1%D9%86%D8%B3%D9%84%DB%8C-%D9%85%D8%AF%D9%84-PR257AT', 'HTTP/1.1'], rescode='200', size='41483', user_agent='Mozilla/5.0,(Windows,NT,6.2;,Win64;,x64;,rv:16.0)Gecko/16.0,Firefox/16.0')]"
            ]
          },
          "metadata": {},
          "execution_count": 19
        }
      ]
    },
    {
      "cell_type": "code",
      "source": [
        "df12 = dataframe.filter(lambda x: len(x.method) >= 3)"
      ],
      "metadata": {
        "id": "Q6IhJVxj0rUc"
      },
      "execution_count": 45,
      "outputs": []
    },
    {
      "cell_type": "code",
      "source": [
        "df12.count()"
      ],
      "metadata": {
        "id": "5qq_3QRtzEqS",
        "outputId": "07f218f7-b836-401f-ccbc-74556258ec5e",
        "colab": {
          "base_uri": "https://localhost:8080/"
        }
      },
      "execution_count": 46,
      "outputs": [
        {
          "output_type": "execute_result",
          "data": {
            "text/plain": [
              "10365096"
            ]
          },
          "metadata": {},
          "execution_count": 46
        }
      ]
    },
    {
      "cell_type": "code",
      "source": [
        ""
      ],
      "metadata": {
        "id": "vcnUKZd-BtiX"
      },
      "execution_count": null,
      "outputs": []
    },
    {
      "cell_type": "markdown",
      "source": [
        ""
      ],
      "metadata": {
        "id": "my3R4e4LmGX1"
      }
    },
    {
      "cell_type": "code",
      "source": [
        "dataframe1 = df12.map(lambda x:Row(client=x[0],datetime=x[1],rescode=x[3],method=x[2][0], request = x[2][1],protocol = x.method[-1],size=x[4] ,user_agent=x[5]) )"
      ],
      "metadata": {
        "id": "vBLOhrkMjGNe"
      },
      "execution_count": 47,
      "outputs": []
    },
    {
      "cell_type": "code",
      "source": [
        ""
      ],
      "metadata": {
        "id": "GvppGIno_dyi",
        "outputId": "1e361f75-0076-4654-8484-6496827f6569",
        "colab": {
          "base_uri": "https://localhost:8080/"
        }
      },
      "execution_count": 44,
      "outputs": [
        {
          "output_type": "execute_result",
          "data": {
            "text/plain": [
              "[Row(client='80.82.64.127', datetime='[22/Jan/2019:08:40:11,+0330]', method=['\\\\x16\\\\x03\\\\x01\\\\x00\\\\x96\\\\x01\\\\x00\\\\x00\\\\x92\\\\x03\\\\x03\\\\xCB\\\\x077\\\\xE6\\\\x83Nq>\\\\xB5\\\\xED\\\\x9E\\\\x87\\\\xB7\\\\x08\\\\xD7\\\\xEAF'], rescode='400', size='166', user_agent='-'),\n",
              " Row(client='72.52.125.78', datetime='[22/Jan/2019:09:55:32,+0330]', method=['\\\\x17\\\\x10\\\\x05\\\\x15JL\\\\xAD\\\\xDC\\\\xCEL\\\\xC1Ff>F'], rescode='400', size='166', user_agent='-'),\n",
              " Row(client='108.178.16.154', datetime='[22/Jan/2019:14:32:00,+0330]', method=['j\\\\x00\\\\xA7\\\\x00\\\\xF3\\\\x00H\\\\x00z\\\\x00\\\\xF3\\\\x00\\\\xFE\\\\x00\\\\xFB\\\\x00\\\\x8E\\\\x00\\\\xFE\\\\x00H\\\\x00\\\\x8E\\\\x00H\\\\x00\\\\xF3\\\\x00\\\\xA7\\\\x00\\\\xD9\\\\x00\\\\xA7\\\\x00\\\\xF3\\\\x00\\\\xB0\\\\x00H\\\\x00\\\\x8B\\\\x00\\\\xF3\\\\x00\\\\xC5\\\\x00\\\\xC5\\\\x00\\\\xFC\\\\x00\\\\x8E\\\\x00\\\\xFB\\\\x00\\\\xFC\\\\x00\\\\xEC\\\\x00\\\\x8B\\\\x00\\\\xF3\\\\x00\\\\xD9\\\\x00\\\\xA7\\\\x00\\\\xFB\\\\x00\\\\xFC\\\\x00\\\\xEC\\\\x00\\\\x8E\\\\x00\\\\xF3\\\\x00\\\\xFB\\\\x00\\\\xA7\\\\x00\\\\xC5\\\\x00\\\\xF3\\\\x00\\\\xEC\\\\x00\\\\x09\\\\x00\\\\x17\\\\x00\\\\xD9\\\\x00\\\\xFB\\\\x00z\\\\x00\\\\xD9\\\\x00\\\\xC5\\\\x00\\\\xC5\\\\x00z\\\\x00\\\\x17\\\\x00\\\\xA7\\\\x00\\\\x17\\\\x00\\\\x8B\\\\x00\\\\xF3\\\\x00\\\\x17\\\\x00\\\\xA7\\\\x00j\\\\x00j\\\\x00\\\\xC5\\\\x00\\\\x8E\\\\x00\\\\x09\\\\x00\\\\x09\\\\x00\\\\x09\\\\x00\\\\x17\\\\x00\\\\xFB\\\\x00\\\\x8B\\\\x00z\\\\x00H\\\\x00\\\\xFB\\\\x00\\\\x8E\\\\x00\\\\xA7\\\\x00\\\\x09\\\\x00\\\\x8B\\\\x00\\\\x8E\\\\x00z\\\\x00z\\\\x00\\\\xB0\\\\x00\\\\x17\\\\x00\\\\x8E\\\\x00\\\\xC5\\\\x00j\\\\x00\\\\xEC\\\\x00\\\\xFB\\\\x00\\\\xEC\\\\x00\\\\xC5\\\\x00\\\\x8E\\\\x00\\\\xB0\\\\x00\\\\xC5\\\\x00\\\\x17\\\\x00\\\\x17\\\\x00H\\\\x00\\\\xFB\\\\x00\\\\xB0\\\\x00\\\\xA7\\\\x00\\\\xA7\\\\x00\\\\xFB\\\\x00\\\\xB0\\\\x00\\\\x8E\\\\x00\\\\xC5\\\\x00\\\\xB0\\\\x00H\\\\x00\\\\x17\\\\x00\\\\xC5\\\\x00\\\\x8B\\\\x00j\\\\x00\\\\x8E\\\\x00\\\\xEC\\\\x00\\\\xF3\\\\x00\\\\xFE\\\\x00\\\\xD9\\\\x00\\\\xF3\\\\x00\\\\xA7\\\\x00j\\\\x00\\\\xEC\\\\x00\\\\xA7\\\\x00\\\\xB0\\\\x00\\\\x17\\\\x00\\\\xFC\\\\x00H\\\\x00H\\\\x00\\\\x09\\\\x00\\\\x09\\\\x00\\\\x09\\\\x00H\\\\x00\\\\x8E\\\\x00\\\\xCE\\\\x00'], rescode='400', size='166', user_agent='-'),\n",
              " Row(client='64.62.197.65', datetime='[22/Jan/2019:18:04:50,+0330]', method=['\\\\x00\\\\x85\\\\x07'], rescode='400', size='166', user_agent='-'),\n",
              " Row(client='64.62.197.65', datetime='[22/Jan/2019:18:04:50,+0330]', method=['\\\\x05bE\\\\x00\\\\x05b\\\\x00\\\\x00@\\\\x00;\\\\x11\\\\x0F\\\\xAC\\\\xD8:\\\\xC2\\\\xD6'], rescode='400', size='166', user_agent='-'),\n",
              " Row(client='74.82.60.72', datetime='[22/Jan/2019:19:31:13,+0330]', method=['E\\\\x00\\\\x00I\\\\xCD{\\\\x00\\\\x00@\\\\x11\\\\xF5Q'], rescode='400', size='166', user_agent='-'),\n",
              " Row(client='5.188.210.12', datetime='[22/Jan/2019:23:05:04,+0330]', method=['\\\\x05\\\\x01\\\\x00'], rescode='400', size='166', user_agent='-'),\n",
              " Row(client='5.188.210.12', datetime='[22/Jan/2019:23:06:22,+0330]', method=['\\\\x04\\\\x01\\\\x00P\\\\x05\\\\xBC\\\\xD2\\\\x0C\\\\x00'], rescode='400', size='166', user_agent='-'),\n",
              " Row(client='66.240.205.34', datetime='[23/Jan/2019:03:09:34,+0330]', method=[\"Gh0st\\\\xAD\\\\x00\\\\x00\\\\x00\\\\xE0\\\\x00\\\\x00\\\\x00x\\\\x9CKS``\\\\x98\\\\xC3\\\\xC0\\\\xC0\\\\xC0\\\\x06\\\\xC4\\\\x8C@\\\\xBCQ\\\\x96\\\\x81\\\\x81\\\\x09H\\\\x07\\\\xA7\\\\x16\\\\x95e&\\\\xA7*\\\\x04$&g+\\\\x182\\\\x94\\\\xF6\\\\xB000\\\\xAC\\\\xA8rc\\\\x00\\\\x01\\\\x11\\\\xA0\\\\x82\\\\x1F\\\\x5C`&\\\\x83\\\\xC7K7\\\\x86\\\\x19\\\\xE5n\\\\x0C9\\\\x95n\\\\x0C;\\\\x84\\\\x0F3\\\\xAC\\\\xE8sch\\\\xA8^\\\\xCF4'J\\\\x97\\\\xA9\\\\x82\\\\xE30\\\\xC3\\\\x91h]&\\\\x90\\\\xF8\\\\xCE\\\\x97S\\\\xCBA4L?2=\\\\xE1\\\\xC4\\\\x92\\\\x86\\\\x0B@\\\\xF5`\\\\x0CT\\\\x1F\\\\xAE\\\\xAF]\"], rescode='400', size='166', user_agent='-'),\n",
              " Row(client='194.113.106.124', datetime='[23/Jan/2019:05:21:53,+0330]', method=[''], rescode='400', size='0', user_agent='-')]"
            ]
          },
          "metadata": {},
          "execution_count": 44
        }
      ]
    },
    {
      "cell_type": "code",
      "source": [
        "#after  request\n",
        "dataframe1.count()"
      ],
      "metadata": {
        "id": "cTi21IMFwe1L"
      },
      "execution_count": null,
      "outputs": []
    },
    {
      "cell_type": "code",
      "source": [
        "dataframe1.count()"
      ],
      "metadata": {
        "id": "6PO3YCM5wFXt",
        "outputId": "2b1d8c1f-20ca-44bf-ce97-c1b7fc6f39d8",
        "colab": {
          "base_uri": "https://localhost:8080/"
        }
      },
      "execution_count": 30,
      "outputs": [
        {
          "output_type": "execute_result",
          "data": {
            "text/plain": [
              "10365152"
            ]
          },
          "metadata": {},
          "execution_count": 30
        }
      ]
    },
    {
      "cell_type": "code",
      "source": [
        "dataframe1.take(10)"
      ],
      "metadata": {
        "id": "0uxzygmH19sY",
        "outputId": "164a0953-3a4f-4261-c349-9ae99353ac0a",
        "colab": {
          "base_uri": "https://localhost:8080/"
        }
      },
      "execution_count": 49,
      "outputs": [
        {
          "output_type": "execute_result",
          "data": {
            "text/plain": [
              "[Row(client='54.36.149.41', datetime='[22/Jan/2019:03:56:14,+0330]', rescode='200', method='GET', request='/filter/27|13%20%D9%85%DA%AF%D8%A7%D9%BE%DB%8C%DA%A9%D8%B3%D9%84', protocol='HTTP/1.1', size='30577', user_agent='Mozilla/5.0,(compatible;,AhrefsBot/6.1;,+http://ahrefs.com/robot/)'),\n",
              " Row(client='31.56.96.51', datetime='[22/Jan/2019:03:56:16,+0330]', rescode='200', method='GET', request='/image/60844/productModel/200x200', protocol='HTTP/1.1', size='5667', user_agent='Mozilla/5.0,(Linux;,Android,6.0;,ALE-L21,Build/HuaweiALE-L21),AppleWebKit/537.36,(KHTML,,like,Gecko),Chrome/66.0.3359.158,Mobile,Safari/537.36'),\n",
              " Row(client='31.56.96.51', datetime='[22/Jan/2019:03:56:16,+0330]', rescode='200', method='GET', request='/image/61474/productModel/200x200', protocol='HTTP/1.1', size='5379', user_agent='Mozilla/5.0,(Linux;,Android,6.0;,ALE-L21,Build/HuaweiALE-L21),AppleWebKit/537.36,(KHTML,,like,Gecko),Chrome/66.0.3359.158,Mobile,Safari/537.36'),\n",
              " Row(client='40.77.167.129', datetime='[22/Jan/2019:03:56:17,+0330]', rescode='200', method='GET', request='/image/14925/productModel/100x100', protocol='HTTP/1.1', size='1696', user_agent='Mozilla/5.0,(compatible;,bingbot/2.0;,+http://www.bing.com/bingbot.htm)'),\n",
              " Row(client='91.99.72.15', datetime='[22/Jan/2019:03:56:17,+0330]', rescode='200', method='GET', request='/product/31893/62100/%D8%B3%D8%B4%D9%88%D8%A7%D8%B1-%D8%AE%D8%A7%D9%86%DA%AF%DB%8C-%D9%BE%D8%B1%D9%86%D8%B3%D9%84%DB%8C-%D9%85%D8%AF%D9%84-PR257AT', protocol='HTTP/1.1', size='41483', user_agent='Mozilla/5.0,(Windows,NT,6.2;,Win64;,x64;,rv:16.0)Gecko/16.0,Firefox/16.0'),\n",
              " Row(client='40.77.167.129', datetime='[22/Jan/2019:03:56:17,+0330]', rescode='200', method='GET', request='/image/23488/productModel/150x150', protocol='HTTP/1.1', size='2654', user_agent='Mozilla/5.0,(compatible;,bingbot/2.0;,+http://www.bing.com/bingbot.htm)'),\n",
              " Row(client='40.77.167.129', datetime='[22/Jan/2019:03:56:18,+0330]', rescode='200', method='GET', request='/image/45437/productModel/150x150', protocol='HTTP/1.1', size='3688', user_agent='Mozilla/5.0,(compatible;,bingbot/2.0;,+http://www.bing.com/bingbot.htm)'),\n",
              " Row(client='40.77.167.129', datetime='[22/Jan/2019:03:56:18,+0330]', rescode='200', method='GET', request='/image/576/article/100x100', protocol='HTTP/1.1', size='14776', user_agent='Mozilla/5.0,(compatible;,bingbot/2.0;,+http://www.bing.com/bingbot.htm)'),\n",
              " Row(client='66.249.66.194', datetime='[22/Jan/2019:03:56:18,+0330]', rescode='200', method='GET', request='/filter/b41', protocol='HTTP/1.1', size='34277', user_agent='Mozilla/5.0,(compatible;,Googlebot/2.1;,+http://www.google.com/bot.html)'),\n",
              " Row(client='40.77.167.129', datetime='[22/Jan/2019:03:56:18,+0330]', rescode='200', method='GET', request='/image/57710/productModel/100x100', protocol='HTTP/1.1', size='1695', user_agent='Mozilla/5.0,(compatible;,bingbot/2.0;,+http://www.bing.com/bingbot.htm)')]"
            ]
          },
          "metadata": {},
          "execution_count": 49
        }
      ]
    },
    {
      "cell_type": "code",
      "source": [
        "dataframe.count()"
      ],
      "metadata": {
        "colab": {
          "base_uri": "https://localhost:8080/",
          "height": 467
        },
        "id": "iD4-nSlDlCn7",
        "outputId": "7122b3a6-d13a-43c3-c1a3-b9509e6cf667"
      },
      "execution_count": 22,
      "outputs": [
        {
          "output_type": "stream",
          "name": "stderr",
          "text": [
            "ERROR:root:KeyboardInterrupt while sending command.\n",
            "Traceback (most recent call last):\n",
            "  File \"/usr/local/lib/python3.7/dist-packages/py4j/java_gateway.py\", line 1038, in send_command\n",
            "    response = connection.send_command(command)\n",
            "  File \"/usr/local/lib/python3.7/dist-packages/py4j/clientserver.py\", line 511, in send_command\n",
            "    answer = smart_decode(self.stream.readline()[:-1])\n",
            "  File \"/usr/lib/python3.7/socket.py\", line 589, in readinto\n",
            "    return self._sock.recv_into(b)\n",
            "KeyboardInterrupt\n"
          ]
        },
        {
          "output_type": "error",
          "ename": "KeyboardInterrupt",
          "evalue": "ignored",
          "traceback": [
            "\u001b[0;31m---------------------------------------------------------------------------\u001b[0m",
            "\u001b[0;31mKeyboardInterrupt\u001b[0m                         Traceback (most recent call last)",
            "\u001b[0;32m<ipython-input-22-cf19503c6346>\u001b[0m in \u001b[0;36m<module>\u001b[0;34m\u001b[0m\n\u001b[0;32m----> 1\u001b[0;31m \u001b[0mdataframe\u001b[0m\u001b[0;34m.\u001b[0m\u001b[0mcount\u001b[0m\u001b[0;34m(\u001b[0m\u001b[0;34m)\u001b[0m\u001b[0;34m\u001b[0m\u001b[0;34m\u001b[0m\u001b[0m\n\u001b[0m",
            "\u001b[0;32m/usr/local/lib/python3.7/dist-packages/pyspark/rdd.py\u001b[0m in \u001b[0;36mcount\u001b[0;34m(self)\u001b[0m\n\u001b[1;32m   1519\u001b[0m         \u001b[0;36m3\u001b[0m\u001b[0;34m\u001b[0m\u001b[0;34m\u001b[0m\u001b[0m\n\u001b[1;32m   1520\u001b[0m         \"\"\"\n\u001b[0;32m-> 1521\u001b[0;31m         \u001b[0;32mreturn\u001b[0m \u001b[0mself\u001b[0m\u001b[0;34m.\u001b[0m\u001b[0mmapPartitions\u001b[0m\u001b[0;34m(\u001b[0m\u001b[0;32mlambda\u001b[0m \u001b[0mi\u001b[0m\u001b[0;34m:\u001b[0m \u001b[0;34m[\u001b[0m\u001b[0msum\u001b[0m\u001b[0;34m(\u001b[0m\u001b[0;36m1\u001b[0m \u001b[0;32mfor\u001b[0m \u001b[0m_\u001b[0m \u001b[0;32min\u001b[0m \u001b[0mi\u001b[0m\u001b[0;34m)\u001b[0m\u001b[0;34m]\u001b[0m\u001b[0;34m)\u001b[0m\u001b[0;34m.\u001b[0m\u001b[0msum\u001b[0m\u001b[0;34m(\u001b[0m\u001b[0;34m)\u001b[0m\u001b[0;34m\u001b[0m\u001b[0;34m\u001b[0m\u001b[0m\n\u001b[0m\u001b[1;32m   1522\u001b[0m \u001b[0;34m\u001b[0m\u001b[0m\n\u001b[1;32m   1523\u001b[0m     \u001b[0;32mdef\u001b[0m \u001b[0mstats\u001b[0m\u001b[0;34m(\u001b[0m\u001b[0mself\u001b[0m\u001b[0;34m:\u001b[0m \u001b[0;34m\"RDD[NumberOrArray]\"\u001b[0m\u001b[0;34m)\u001b[0m \u001b[0;34m->\u001b[0m \u001b[0mStatCounter\u001b[0m\u001b[0;34m:\u001b[0m\u001b[0;34m\u001b[0m\u001b[0;34m\u001b[0m\u001b[0m\n",
            "\u001b[0;32m/usr/local/lib/python3.7/dist-packages/pyspark/rdd.py\u001b[0m in \u001b[0;36msum\u001b[0;34m(self)\u001b[0m\n\u001b[1;32m   1507\u001b[0m         \"\"\"\n\u001b[1;32m   1508\u001b[0m         return self.mapPartitions(lambda x: [sum(x)]).fold(  # type: ignore[return-value]\n\u001b[0;32m-> 1509\u001b[0;31m             \u001b[0;36m0\u001b[0m\u001b[0;34m,\u001b[0m \u001b[0moperator\u001b[0m\u001b[0;34m.\u001b[0m\u001b[0madd\u001b[0m\u001b[0;34m\u001b[0m\u001b[0;34m\u001b[0m\u001b[0m\n\u001b[0m\u001b[1;32m   1510\u001b[0m         )\n\u001b[1;32m   1511\u001b[0m \u001b[0;34m\u001b[0m\u001b[0m\n",
            "\u001b[0;32m/usr/local/lib/python3.7/dist-packages/pyspark/rdd.py\u001b[0m in \u001b[0;36mfold\u001b[0;34m(self, zeroValue, op)\u001b[0m\n\u001b[1;32m   1334\u001b[0m         \u001b[0;31m# zeroValue provided to each partition is unique from the one provided\u001b[0m\u001b[0;34m\u001b[0m\u001b[0;34m\u001b[0m\u001b[0;34m\u001b[0m\u001b[0m\n\u001b[1;32m   1335\u001b[0m         \u001b[0;31m# to the final reduce call\u001b[0m\u001b[0;34m\u001b[0m\u001b[0;34m\u001b[0m\u001b[0;34m\u001b[0m\u001b[0m\n\u001b[0;32m-> 1336\u001b[0;31m         \u001b[0mvals\u001b[0m \u001b[0;34m=\u001b[0m \u001b[0mself\u001b[0m\u001b[0;34m.\u001b[0m\u001b[0mmapPartitions\u001b[0m\u001b[0;34m(\u001b[0m\u001b[0mfunc\u001b[0m\u001b[0;34m)\u001b[0m\u001b[0;34m.\u001b[0m\u001b[0mcollect\u001b[0m\u001b[0;34m(\u001b[0m\u001b[0;34m)\u001b[0m\u001b[0;34m\u001b[0m\u001b[0;34m\u001b[0m\u001b[0m\n\u001b[0m\u001b[1;32m   1337\u001b[0m         \u001b[0;32mreturn\u001b[0m \u001b[0mreduce\u001b[0m\u001b[0;34m(\u001b[0m\u001b[0mop\u001b[0m\u001b[0;34m,\u001b[0m \u001b[0mvals\u001b[0m\u001b[0;34m,\u001b[0m \u001b[0mzeroValue\u001b[0m\u001b[0;34m)\u001b[0m\u001b[0;34m\u001b[0m\u001b[0;34m\u001b[0m\u001b[0m\n\u001b[1;32m   1338\u001b[0m \u001b[0;34m\u001b[0m\u001b[0m\n",
            "\u001b[0;32m/usr/local/lib/python3.7/dist-packages/pyspark/rdd.py\u001b[0m in \u001b[0;36mcollect\u001b[0;34m(self)\u001b[0m\n\u001b[1;32m   1195\u001b[0m         \u001b[0;32mwith\u001b[0m \u001b[0mSCCallSiteSync\u001b[0m\u001b[0;34m(\u001b[0m\u001b[0mself\u001b[0m\u001b[0;34m.\u001b[0m\u001b[0mcontext\u001b[0m\u001b[0;34m)\u001b[0m\u001b[0;34m:\u001b[0m\u001b[0;34m\u001b[0m\u001b[0;34m\u001b[0m\u001b[0m\n\u001b[1;32m   1196\u001b[0m             \u001b[0;32massert\u001b[0m \u001b[0mself\u001b[0m\u001b[0;34m.\u001b[0m\u001b[0mctx\u001b[0m\u001b[0;34m.\u001b[0m\u001b[0m_jvm\u001b[0m \u001b[0;32mis\u001b[0m \u001b[0;32mnot\u001b[0m \u001b[0;32mNone\u001b[0m\u001b[0;34m\u001b[0m\u001b[0;34m\u001b[0m\u001b[0m\n\u001b[0;32m-> 1197\u001b[0;31m             \u001b[0msock_info\u001b[0m \u001b[0;34m=\u001b[0m \u001b[0mself\u001b[0m\u001b[0;34m.\u001b[0m\u001b[0mctx\u001b[0m\u001b[0;34m.\u001b[0m\u001b[0m_jvm\u001b[0m\u001b[0;34m.\u001b[0m\u001b[0mPythonRDD\u001b[0m\u001b[0;34m.\u001b[0m\u001b[0mcollectAndServe\u001b[0m\u001b[0;34m(\u001b[0m\u001b[0mself\u001b[0m\u001b[0;34m.\u001b[0m\u001b[0m_jrdd\u001b[0m\u001b[0;34m.\u001b[0m\u001b[0mrdd\u001b[0m\u001b[0;34m(\u001b[0m\u001b[0;34m)\u001b[0m\u001b[0;34m)\u001b[0m\u001b[0;34m\u001b[0m\u001b[0;34m\u001b[0m\u001b[0m\n\u001b[0m\u001b[1;32m   1198\u001b[0m         \u001b[0;32mreturn\u001b[0m \u001b[0mlist\u001b[0m\u001b[0;34m(\u001b[0m\u001b[0m_load_from_socket\u001b[0m\u001b[0;34m(\u001b[0m\u001b[0msock_info\u001b[0m\u001b[0;34m,\u001b[0m \u001b[0mself\u001b[0m\u001b[0;34m.\u001b[0m\u001b[0m_jrdd_deserializer\u001b[0m\u001b[0;34m)\u001b[0m\u001b[0;34m)\u001b[0m\u001b[0;34m\u001b[0m\u001b[0;34m\u001b[0m\u001b[0m\n\u001b[1;32m   1199\u001b[0m \u001b[0;34m\u001b[0m\u001b[0m\n",
            "\u001b[0;32m/usr/local/lib/python3.7/dist-packages/py4j/java_gateway.py\u001b[0m in \u001b[0;36m__call__\u001b[0;34m(self, *args)\u001b[0m\n\u001b[1;32m   1318\u001b[0m             \u001b[0mproto\u001b[0m\u001b[0;34m.\u001b[0m\u001b[0mEND_COMMAND_PART\u001b[0m\u001b[0;34m\u001b[0m\u001b[0;34m\u001b[0m\u001b[0m\n\u001b[1;32m   1319\u001b[0m \u001b[0;34m\u001b[0m\u001b[0m\n\u001b[0;32m-> 1320\u001b[0;31m         \u001b[0manswer\u001b[0m \u001b[0;34m=\u001b[0m \u001b[0mself\u001b[0m\u001b[0;34m.\u001b[0m\u001b[0mgateway_client\u001b[0m\u001b[0;34m.\u001b[0m\u001b[0msend_command\u001b[0m\u001b[0;34m(\u001b[0m\u001b[0mcommand\u001b[0m\u001b[0;34m)\u001b[0m\u001b[0;34m\u001b[0m\u001b[0;34m\u001b[0m\u001b[0m\n\u001b[0m\u001b[1;32m   1321\u001b[0m         return_value = get_return_value(\n\u001b[1;32m   1322\u001b[0m             answer, self.gateway_client, self.target_id, self.name)\n",
            "\u001b[0;32m/usr/local/lib/python3.7/dist-packages/py4j/java_gateway.py\u001b[0m in \u001b[0;36msend_command\u001b[0;34m(self, command, retry, binary)\u001b[0m\n\u001b[1;32m   1036\u001b[0m         \u001b[0mconnection\u001b[0m \u001b[0;34m=\u001b[0m \u001b[0mself\u001b[0m\u001b[0;34m.\u001b[0m\u001b[0m_get_connection\u001b[0m\u001b[0;34m(\u001b[0m\u001b[0;34m)\u001b[0m\u001b[0;34m\u001b[0m\u001b[0;34m\u001b[0m\u001b[0m\n\u001b[1;32m   1037\u001b[0m         \u001b[0;32mtry\u001b[0m\u001b[0;34m:\u001b[0m\u001b[0;34m\u001b[0m\u001b[0;34m\u001b[0m\u001b[0m\n\u001b[0;32m-> 1038\u001b[0;31m             \u001b[0mresponse\u001b[0m \u001b[0;34m=\u001b[0m \u001b[0mconnection\u001b[0m\u001b[0;34m.\u001b[0m\u001b[0msend_command\u001b[0m\u001b[0;34m(\u001b[0m\u001b[0mcommand\u001b[0m\u001b[0;34m)\u001b[0m\u001b[0;34m\u001b[0m\u001b[0;34m\u001b[0m\u001b[0m\n\u001b[0m\u001b[1;32m   1039\u001b[0m             \u001b[0;32mif\u001b[0m \u001b[0mbinary\u001b[0m\u001b[0;34m:\u001b[0m\u001b[0;34m\u001b[0m\u001b[0;34m\u001b[0m\u001b[0m\n\u001b[1;32m   1040\u001b[0m                 \u001b[0;32mreturn\u001b[0m \u001b[0mresponse\u001b[0m\u001b[0;34m,\u001b[0m \u001b[0mself\u001b[0m\u001b[0;34m.\u001b[0m\u001b[0m_create_connection_guard\u001b[0m\u001b[0;34m(\u001b[0m\u001b[0mconnection\u001b[0m\u001b[0;34m)\u001b[0m\u001b[0;34m\u001b[0m\u001b[0;34m\u001b[0m\u001b[0m\n",
            "\u001b[0;32m/usr/local/lib/python3.7/dist-packages/py4j/clientserver.py\u001b[0m in \u001b[0;36msend_command\u001b[0;34m(self, command)\u001b[0m\n\u001b[1;32m    509\u001b[0m         \u001b[0;32mtry\u001b[0m\u001b[0;34m:\u001b[0m\u001b[0;34m\u001b[0m\u001b[0;34m\u001b[0m\u001b[0m\n\u001b[1;32m    510\u001b[0m             \u001b[0;32mwhile\u001b[0m \u001b[0;32mTrue\u001b[0m\u001b[0;34m:\u001b[0m\u001b[0;34m\u001b[0m\u001b[0;34m\u001b[0m\u001b[0m\n\u001b[0;32m--> 511\u001b[0;31m                 \u001b[0manswer\u001b[0m \u001b[0;34m=\u001b[0m \u001b[0msmart_decode\u001b[0m\u001b[0;34m(\u001b[0m\u001b[0mself\u001b[0m\u001b[0;34m.\u001b[0m\u001b[0mstream\u001b[0m\u001b[0;34m.\u001b[0m\u001b[0mreadline\u001b[0m\u001b[0;34m(\u001b[0m\u001b[0;34m)\u001b[0m\u001b[0;34m[\u001b[0m\u001b[0;34m:\u001b[0m\u001b[0;34m-\u001b[0m\u001b[0;36m1\u001b[0m\u001b[0;34m]\u001b[0m\u001b[0;34m)\u001b[0m\u001b[0;34m\u001b[0m\u001b[0;34m\u001b[0m\u001b[0m\n\u001b[0m\u001b[1;32m    512\u001b[0m                 \u001b[0mlogger\u001b[0m\u001b[0;34m.\u001b[0m\u001b[0mdebug\u001b[0m\u001b[0;34m(\u001b[0m\u001b[0;34m\"Answer received: {0}\"\u001b[0m\u001b[0;34m.\u001b[0m\u001b[0mformat\u001b[0m\u001b[0;34m(\u001b[0m\u001b[0manswer\u001b[0m\u001b[0;34m)\u001b[0m\u001b[0;34m)\u001b[0m\u001b[0;34m\u001b[0m\u001b[0;34m\u001b[0m\u001b[0m\n\u001b[1;32m    513\u001b[0m                 \u001b[0;31m# Happens when a the other end is dead. There might be an empty\u001b[0m\u001b[0;34m\u001b[0m\u001b[0;34m\u001b[0m\u001b[0;34m\u001b[0m\u001b[0m\n",
            "\u001b[0;32m/usr/lib/python3.7/socket.py\u001b[0m in \u001b[0;36mreadinto\u001b[0;34m(self, b)\u001b[0m\n\u001b[1;32m    587\u001b[0m         \u001b[0;32mwhile\u001b[0m \u001b[0;32mTrue\u001b[0m\u001b[0;34m:\u001b[0m\u001b[0;34m\u001b[0m\u001b[0;34m\u001b[0m\u001b[0m\n\u001b[1;32m    588\u001b[0m             \u001b[0;32mtry\u001b[0m\u001b[0;34m:\u001b[0m\u001b[0;34m\u001b[0m\u001b[0;34m\u001b[0m\u001b[0m\n\u001b[0;32m--> 589\u001b[0;31m                 \u001b[0;32mreturn\u001b[0m \u001b[0mself\u001b[0m\u001b[0;34m.\u001b[0m\u001b[0m_sock\u001b[0m\u001b[0;34m.\u001b[0m\u001b[0mrecv_into\u001b[0m\u001b[0;34m(\u001b[0m\u001b[0mb\u001b[0m\u001b[0;34m)\u001b[0m\u001b[0;34m\u001b[0m\u001b[0;34m\u001b[0m\u001b[0m\n\u001b[0m\u001b[1;32m    590\u001b[0m             \u001b[0;32mexcept\u001b[0m \u001b[0mtimeout\u001b[0m\u001b[0;34m:\u001b[0m\u001b[0;34m\u001b[0m\u001b[0;34m\u001b[0m\u001b[0m\n\u001b[1;32m    591\u001b[0m                 \u001b[0mself\u001b[0m\u001b[0;34m.\u001b[0m\u001b[0m_timeout_occurred\u001b[0m \u001b[0;34m=\u001b[0m \u001b[0;32mTrue\u001b[0m\u001b[0;34m\u001b[0m\u001b[0;34m\u001b[0m\u001b[0m\n",
            "\u001b[0;31mKeyboardInterrupt\u001b[0m: "
          ]
        }
      ]
    },
    {
      "cell_type": "code",
      "source": [
        "dataframe2 = dataframe1.map(lambda x:Row(host=x[0],datetime=x[1],rescode=x[2],size=x[3],method=x[4],request=x[5],protocol=x[6] \n",
        "                                        ,user_agent = 'Bot' if 'AhrefsBot' in x[7] else 'Mobile' if 'Mobile' in x[7] else \"Windows\" if 'Windows' in x[7] else \"Bot\" if \"bingbot\" in x[7] else \"Bot\" if 'Googlebot' in x[7] else \"Applebot\" if 'Applebot' in x[7] else 'Unknown' ) )"
      ],
      "metadata": {
        "id": "KGTASsy4vegx"
      },
      "execution_count": 50,
      "outputs": []
    },
    {
      "cell_type": "code",
      "source": [
        "dataframe2.count()"
      ],
      "metadata": {
        "id": "dIjKD-PdDtd5",
        "outputId": "24f77b12-2abd-407d-affa-54a6d9229940",
        "colab": {
          "base_uri": "https://localhost:8080/"
        }
      },
      "execution_count": 52,
      "outputs": [
        {
          "output_type": "execute_result",
          "data": {
            "text/plain": [
              "10365096"
            ]
          },
          "metadata": {},
          "execution_count": 52
        }
      ]
    },
    {
      "cell_type": "code",
      "source": [
        "# user_agents = dataframe1.map(lambda x: x.user_agent)"
      ],
      "metadata": {
        "id": "go9bCSPjlFcN"
      },
      "execution_count": null,
      "outputs": []
    },
    {
      "cell_type": "code",
      "source": [
        "# user_agents.take(100)"
      ],
      "metadata": {
        "id": "wjGEiF6pjfJz"
      },
      "execution_count": null,
      "outputs": []
    },
    {
      "cell_type": "code",
      "source": [
        "# devices = user_agents.map(lambda x:Row(device = 'Mobile' if 'Mobile' in x else \"Windows\" if 'Windows' in x else \"Bingbot\" if \"bingbot\" in x else \"Googlebot\" if 'Googlebot' in x else \"Applebot\" if 'Applebot' in x else  \"Unknown\" ))"
      ],
      "metadata": {
        "id": "0GHT_5B0vBzl"
      },
      "execution_count": null,
      "outputs": []
    },
    {
      "cell_type": "code",
      "source": [
        "# devices.take(200)"
      ],
      "metadata": {
        "id": "HeVsKrRvi21r"
      },
      "execution_count": null,
      "outputs": []
    },
    {
      "cell_type": "code",
      "source": [
        "import urllib.parse\n",
        "encodedStr = '%D9%85%D8%A7%DB%8C%DA%A9%D8%B1%D9%88%D9%81%D8%B1-%D8%B1%D9%88%D9%85%DB%8C%D8%B2%DB%8C-%D8%B3%D8%A7%D9%85%D8%B3%D9%88%D9%86%DA%AF-%D9%85%D8%AF%D9%84-CE288'\n",
        "urllib.parse.unquote_plus(encodedStr)"
      ],
      "metadata": {
        "id": "_Xh2Zr37rvyb"
      },
      "execution_count": null,
      "outputs": []
    },
    {
      "cell_type": "code",
      "source": [
        "dataframe2"
      ],
      "metadata": {
        "id": "matRXRQ6wk1S"
      },
      "execution_count": null,
      "outputs": []
    },
    {
      "cell_type": "code",
      "source": [
        "from pyspark.sql import SQLContext, Row"
      ],
      "metadata": {
        "id": "230OZCu-8Rz9"
      },
      "execution_count": 53,
      "outputs": []
    },
    {
      "cell_type": "code",
      "source": [
        "sqlC=SQLContext(sc)"
      ],
      "metadata": {
        "colab": {
          "base_uri": "https://localhost:8080/"
        },
        "id": "RunPFVm98V1X",
        "outputId": "d9191e1f-a8f7-458f-ada7-20a630e91832"
      },
      "execution_count": 54,
      "outputs": [
        {
          "output_type": "stream",
          "name": "stderr",
          "text": [
            "/usr/local/lib/python3.7/dist-packages/pyspark/sql/context.py:114: FutureWarning: Deprecated in 3.0.0. Use SparkSession.builder.getOrCreate() instead.\n",
            "  FutureWarning,\n"
          ]
        }
      ]
    },
    {
      "cell_type": "code",
      "source": [
        "WebLogsFile=dataframe2.toDF()"
      ],
      "metadata": {
        "id": "uVMuBgEX8V4E"
      },
      "execution_count": 55,
      "outputs": []
    },
    {
      "cell_type": "code",
      "source": [
        "WebLogsFile.show()"
      ],
      "metadata": {
        "colab": {
          "base_uri": "https://localhost:8080/"
        },
        "id": "uH94xB1cBI7g",
        "outputId": "a4756964-b166-4a78-9f96-33238d6f7f33"
      },
      "execution_count": 56,
      "outputs": [
        {
          "output_type": "stream",
          "name": "stdout",
          "text": [
            "+-------------+--------------------+-------+----+--------------------+--------+--------+----------+\n",
            "|         host|            datetime|rescode|size|              method| request|protocol|user_agent|\n",
            "+-------------+--------------------+-------+----+--------------------+--------+--------+----------+\n",
            "| 54.36.149.41|[22/Jan/2019:03:5...|    200| GET|/filter/27|13%20%...|HTTP/1.1|   30577|       Bot|\n",
            "|  31.56.96.51|[22/Jan/2019:03:5...|    200| GET|/image/60844/prod...|HTTP/1.1|    5667|    Mobile|\n",
            "|  31.56.96.51|[22/Jan/2019:03:5...|    200| GET|/image/61474/prod...|HTTP/1.1|    5379|    Mobile|\n",
            "|40.77.167.129|[22/Jan/2019:03:5...|    200| GET|/image/14925/prod...|HTTP/1.1|    1696|       Bot|\n",
            "|  91.99.72.15|[22/Jan/2019:03:5...|    200| GET|/product/31893/62...|HTTP/1.1|   41483|   Windows|\n",
            "|40.77.167.129|[22/Jan/2019:03:5...|    200| GET|/image/23488/prod...|HTTP/1.1|    2654|       Bot|\n",
            "|40.77.167.129|[22/Jan/2019:03:5...|    200| GET|/image/45437/prod...|HTTP/1.1|    3688|       Bot|\n",
            "|40.77.167.129|[22/Jan/2019:03:5...|    200| GET|/image/576/articl...|HTTP/1.1|   14776|       Bot|\n",
            "|66.249.66.194|[22/Jan/2019:03:5...|    200| GET|         /filter/b41|HTTP/1.1|   34277|       Bot|\n",
            "|40.77.167.129|[22/Jan/2019:03:5...|    200| GET|/image/57710/prod...|HTTP/1.1|    1695|       Bot|\n",
            "|207.46.13.136|[22/Jan/2019:03:5...|    200| GET|      /product/10214|HTTP/1.1|   39677|       Bot|\n",
            "|40.77.167.129|[22/Jan/2019:03:5...|    200| GET|/image/578/articl...|HTTP/1.1|    9831|       Bot|\n",
            "|178.253.33.51|[22/Jan/2019:03:5...|    200| GET|/m/product/32574/...|HTTP/1.1|   20406|    Mobile|\n",
            "|40.77.167.129|[22/Jan/2019:03:5...|    200| GET|/image/6229/produ...|HTTP/1.1|    1796|       Bot|\n",
            "|  91.99.72.15|[22/Jan/2019:03:5...|    200| GET|/product/10075/13...|HTTP/1.1|   41725|   Unknown|\n",
            "|40.77.167.129|[22/Jan/2019:03:5...|    200| GET|/image/6229/produ...|HTTP/1.1|    2739|       Bot|\n",
            "|207.46.13.136|[22/Jan/2019:03:5...|    404| GET|      /product/14926|HTTP/1.1|   33617|       Bot|\n",
            "|40.77.167.129|[22/Jan/2019:03:5...|    200| GET|/image/6248/produ...|HTTP/1.1|    2788|       Bot|\n",
            "|40.77.167.129|[22/Jan/2019:03:5...|    200| GET|/image/64815/prod...|HTTP/1.1|    3481|       Bot|\n",
            "|66.249.66.194|[22/Jan/2019:03:5...|    200| GET|        /m/filter/b2|HTTP/1.1|   19451|    Mobile|\n",
            "+-------------+--------------------+-------+----+--------------------+--------+--------+----------+\n",
            "only showing top 20 rows\n",
            "\n"
          ]
        }
      ]
    },
    {
      "cell_type": "code",
      "source": [
        "WebLogsFile.write.option(\"header\",True).csv(\"/content/drive/MyDrive/WebLogCsv2\")"
      ],
      "metadata": {
        "id": "xQi2Qrs19g5v"
      },
      "execution_count": null,
      "outputs": []
    },
    {
      "cell_type": "code",
      "source": [
        "# importing panda library\n",
        "import pandas as pd\n",
        "  \n",
        "# readinag given csv file\n",
        "# and creating dataframe\n",
        "dataframe1 = pd.read_csv(\"/content/access.log\",sep=\" \")\n",
        "  \n",
        "# storing this dataframe in a csv file\n",
        "dataframe1.to_csv('access.csv', index = None)"
      ],
      "metadata": {
        "id": "8sc_jFxzBl0d"
      },
      "execution_count": null,
      "outputs": []
    },
    {
      "cell_type": "code",
      "source": [
        "WebLogsFile.write.format(\"csv\").save(\"/content/drive/MyDrive/WebLogCsv\")"
      ],
      "metadata": {
        "id": "HpUu8THV9CgZ"
      },
      "execution_count": null,
      "outputs": []
    },
    {
      "cell_type": "code",
      "source": [
        "# from collections import namedtuple\n",
        "# import pandas as pd\n",
        "# import datetime\n",
        "# import ipaddress\n",
        "\n",
        "# #Columns of the dataset\n",
        "# fields=('Host', 'datetime', 'rescode', 'size', 'method','request','protocol','user_agent')\n",
        "\n",
        "# #namedtuple is a function that creates class called webl\n",
        "# WebL= namedtuple('WebLogs', fields)\n",
        "\n",
        "\n",
        "# #Parse the row list and return Movie object\n",
        "# def parse(row):\n",
        "#     row[0] = ipaddress.ip_address(row[0])\n",
        "#     row[1] =  pd.to_datetime(row[1], format='%d/%b/%Y:%H:%M:%S %z')\n",
        "#     row[2] = int(row[2])\n",
        "#     row[3] = int(row[3])\n",
        "#     row[4] = str(row[4])\n",
        "#     row[5] = urllib.parse.unquote_plus(row[5])\n",
        "#     row[6] = str(row[6])\n",
        "#     row[7] = str(row[7])\n",
        "#     return WebL(*row[:7])"
      ],
      "metadata": {
        "id": "xHhH8YK80Qrj"
      },
      "execution_count": null,
      "outputs": []
    },
    {
      "cell_type": "code",
      "source": [
        ""
      ],
      "metadata": {
        "id": "a5hVFbKa8VMg"
      },
      "execution_count": null,
      "outputs": []
    },
    {
      "cell_type": "code",
      "source": [
        "# WebLogsFinal=dataframe2.map(parse)"
      ],
      "metadata": {
        "id": "4b3x4Jgi1L4m"
      },
      "execution_count": null,
      "outputs": []
    },
    {
      "cell_type": "code",
      "source": [
        "# WebLogsFinal.take(1)"
      ],
      "metadata": {
        "id": "LIZSMCpl5U1P"
      },
      "execution_count": null,
      "outputs": []
    },
    {
      "cell_type": "code",
      "source": [
        ""
      ],
      "metadata": {
        "id": "GR_4r56C8OrH"
      },
      "execution_count": null,
      "outputs": []
    },
    {
      "cell_type": "code",
      "source": [
        ""
      ],
      "metadata": {
        "id": "AoR8iVq65Yiv"
      },
      "execution_count": null,
      "outputs": []
    }
  ]
}